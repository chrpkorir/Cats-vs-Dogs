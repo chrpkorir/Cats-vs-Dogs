{
  "nbformat": 4,
  "nbformat_minor": 0,
  "metadata": {
    "accelerator": "GPU",
    "colab": {
      "name": "Cats and Dogs.ipynb",
      "provenance": [],
      "collapsed_sections": [],
      "authorship_tag": "ABX9TyPdFkcYsnypgDc6gvU2Edd6",
      "include_colab_link": true
    },
    "kernelspec": {
      "display_name": "Python 3",
      "name": "python3"
    }
  },
  "cells": [
    {
      "cell_type": "markdown",
      "metadata": {
        "id": "view-in-github",
        "colab_type": "text"
      },
      "source": [
        "<a href=\"https://colab.research.google.com/github/chrpkorir/Cats-vs-Dogs/blob/main/Cats_and_Dogs.ipynb\" target=\"_parent\"><img src=\"https://colab.research.google.com/assets/colab-badge.svg\" alt=\"Open In Colab\"/></a>"
      ]
    },
    {
      "cell_type": "markdown",
      "metadata": {
        "id": "IE9prUBRArGi"
      },
      "source": [
        "Simple Image Classification of Cats and Dogs\n",
        "\n"
      ]
    },
    {
      "cell_type": "markdown",
      "metadata": {
        "id": "9uW6EboTAyU3"
      },
      "source": [
        "\n",
        "\n",
        "\n",
        "* Import the necessary modeles\n",
        "\n"
      ]
    },
    {
      "cell_type": "code",
      "metadata": {
        "id": "UBNcU3bSA7Z9"
      },
      "source": [
        "# Import necessary module\n",
        "\n",
        "# General modules\n",
        "import tensorflow as tf\n",
        "import pandas as pd\n",
        "import numpy as np\n",
        "import matplotlib.pyplot as plt\n",
        "\n",
        "# import development libraries\n",
        "\n",
        "from tensorflow.keras import Sequential\n",
        "from tensorflow.keras.layers import Dense, Conv2D, MaxPool2D, Dropout, Flatten, BatchNormalization\n",
        "\n",
        "# loading in oyr data\n",
        "import os\n",
        "from zipfile import ZipFile\n"
      ],
      "execution_count": 1,
      "outputs": []
    },
    {
      "cell_type": "markdown",
      "metadata": {
        "id": "92OMWFMoBxSU"
      },
      "source": [
        "* Get our Data"
      ]
    },
    {
      "cell_type": "code",
      "metadata": {
        "colab": {
          "base_uri": "https://localhost:8080/"
        },
        "id": "U8tdqg7TBv5G",
        "outputId": "58cc0aad-aa07-4c09-c295-5b51c9b97675"
      },
      "source": [
        "# We get the data\n",
        "\n",
        "!wget --no-check-certificate\\\n",
        "       https://storage.googleapis.com/mledu-datasets/cats_and_dogs_filtered.zip&sa=D&ust=1607243579741000&usg=AFQjCNEGEPCUbPEI_kRt_-FzehIEd43huA"
      ],
      "execution_count": 2,
      "outputs": [
        {
          "output_type": "stream",
          "text": [
            "--2020-12-07 08:53:30--  https://storage.googleapis.com/mledu-datasets/cats_and_dogs_filtered.zip\n",
            "Resolving storage.googleapis.com (storage.googleapis.com)... 64.233.170.128, 172.217.193.128, 172.217.204.128, ...\n",
            "Connecting to storage.googleapis.com (storage.googleapis.com)|64.233.170.128|:443... connected.\n",
            "HTTP request sent, awaiting response... 200 OK\n",
            "Length: 68606236 (65M) [application/zip]\n",
            "Saving to: ‘cats_and_dogs_filtered.zip’\n",
            "\n",
            "cats_and_dogs_filte 100%[===================>]  65.43M   165MB/s    in 0.4s    \n",
            "\n",
            "2020-12-07 08:53:31 (165 MB/s) - ‘cats_and_dogs_filtered.zip’ saved [68606236/68606236]\n",
            "\n"
          ],
          "name": "stdout"
        }
      ]
    },
    {
      "cell_type": "code",
      "metadata": {
        "id": "dSF0cvUECkU7"
      },
      "source": [
        "# unzip the data\n",
        "\n",
        "zip = ZipFile('/content/cats_and_dogs_filtered.zip', 'r')\n",
        "zip.extractall()"
      ],
      "execution_count": 3,
      "outputs": []
    },
    {
      "cell_type": "code",
      "metadata": {
        "id": "wSUrIrsiDjks"
      },
      "source": [
        "# Get the various directories\n",
        "train_dir ='/content/cats_and_dogs_filtered/train'\n",
        "validation_dir = '/content/cats_and_dogs_filtered/validation'\n",
        "\n",
        "train_cats_dir ='/content/cats_and_dogs_filtered/train/cats'\n",
        "train_dogs_dir = '/content/cats_and_dogs_filtered/train/dogs'\n",
        "\n",
        "validation_cats_dir ='/content/cats_and_dogs_filtered/validation/cats'\n",
        "validation_dogs_dir = '/content/cats_and_dogs_filtered/validation/dogs'\n",
        "\n"
      ],
      "execution_count": 4,
      "outputs": []
    },
    {
      "cell_type": "code",
      "metadata": {
        "colab": {
          "base_uri": "https://localhost:8080/"
        },
        "id": "zc_CAXm0FFdW",
        "outputId": "1181f032-ff3f-456c-919e-2eec09036a13"
      },
      "source": [
        "# view the size of train and validation data\n",
        "train_cats = os.listdir(train_cats_dir)\n",
        "\n",
        "len(train_cats)"
      ],
      "execution_count": 5,
      "outputs": [
        {
          "output_type": "execute_result",
          "data": {
            "text/plain": [
              "1000"
            ]
          },
          "metadata": {
            "tags": []
          },
          "execution_count": 5
        }
      ]
    },
    {
      "cell_type": "markdown",
      "metadata": {
        "id": "jtSDzu-eFUDA"
      },
      "source": [
        "Load data through the Image data Generator"
      ]
    },
    {
      "cell_type": "code",
      "metadata": {
        "id": "EGL8JxanFasr"
      },
      "source": [
        "# mport Image data Generator\n",
        "\n",
        "from tensorflow.keras.preprocessing.image import ImageDataGenerator"
      ],
      "execution_count": 6,
      "outputs": []
    },
    {
      "cell_type": "code",
      "metadata": {
        "id": "YcAKV-59FmGE"
      },
      "source": [
        "# Instantiate the generator\n",
        "\n",
        "#Train\n",
        "train_datagen = ImageDataGenerator(rotation_range=30,\n",
        "                                   width_shift_range= 0.5,\n",
        "                                   height_shift_range= 0.5,\n",
        "                                   zoom_range= 0.8,\n",
        "                                   horizontal_flip= True,\n",
        "                                   vertical_flip= True,\n",
        "                                   rescale = 1/255)\n",
        "\n",
        "# Validation\n",
        "validation_datagen = ImageDataGenerator(rescale=1/255)\n"
      ],
      "execution_count": 7,
      "outputs": []
    },
    {
      "cell_type": "markdown",
      "metadata": {
        "id": "kF38MLW_IMQP"
      },
      "source": [
        "Flow from data"
      ]
    },
    {
      "cell_type": "code",
      "metadata": {
        "colab": {
          "base_uri": "https://localhost:8080/"
        },
        "id": "h0pwmNKKIQW2",
        "outputId": "d8c7bc9f-bcab-4f76-9e95-aa9189f48c76"
      },
      "source": [
        "# Flow from data\n",
        "\n",
        "train_flow = train_datagen.flow_from_directory(train_dir,\n",
        "                                               target_size=(150,150),\n",
        "                                               class_mode='binary',\n",
        "                                               batch_size=50,\n",
        "                                               shuffle=True)\n"
      ],
      "execution_count": 8,
      "outputs": [
        {
          "output_type": "stream",
          "text": [
            "Found 2000 images belonging to 2 classes.\n"
          ],
          "name": "stdout"
        }
      ]
    },
    {
      "cell_type": "code",
      "metadata": {
        "colab": {
          "base_uri": "https://localhost:8080/"
        },
        "id": "KTO40JhMJcrl",
        "outputId": "bddbf949-a3ae-439d-e302-a8fd268db16d"
      },
      "source": [
        "# Test data\n",
        "validation_flow = validation_datagen.flow_from_directory(validation_dir,\n",
        "                                                         target_size=(150,150),\n",
        "                                                         class_mode='binary',\n",
        "                                                         batch_size=50)"
      ],
      "execution_count": 9,
      "outputs": [
        {
          "output_type": "stream",
          "text": [
            "Found 1000 images belonging to 2 classes.\n"
          ],
          "name": "stdout"
        }
      ]
    },
    {
      "cell_type": "markdown",
      "metadata": {
        "id": "yVBotzj5J5GL"
      },
      "source": [
        "Model Development"
      ]
    },
    {
      "cell_type": "code",
      "metadata": {
        "colab": {
          "base_uri": "https://localhost:8080/"
        },
        "id": "bKOHMlN5KtT6",
        "outputId": "6b7fa7f2-c746-4ef6-90e6-a8155a751266"
      },
      "source": [
        "# call the model\n",
        "\n",
        "model = Sequential([\n",
        "                    Conv2D(32, (3,3), activation='relu', input_shape=(150,150,3)),\n",
        "                    MaxPool2D((2,2)),\n",
        "                    Conv2D(64, (3,3), activation='relu'),\n",
        "                    MaxPool2D((2,2)),\n",
        "                     Conv2D(128, (3,3), activation='relu'),\n",
        "                    MaxPool2D((2,2)),\n",
        "                     Conv2D(128, (3,3), activation='relu'),\n",
        "                    MaxPool2D((2,2)),\n",
        "\n",
        "                    Flatten(),\n",
        "                    Dense(512, activation='relu'),\n",
        "                    Dense(1, activation='sigmoid')\n",
        "])\n",
        "\n",
        "# compile the model\n",
        "model.compile(optimizer='adam', loss='binary_crossentropy', metrics=['accuracy'])\n",
        "\n",
        "model.summary()"
      ],
      "execution_count": 10,
      "outputs": [
        {
          "output_type": "stream",
          "text": [
            "Model: \"sequential\"\n",
            "_________________________________________________________________\n",
            "Layer (type)                 Output Shape              Param #   \n",
            "=================================================================\n",
            "conv2d (Conv2D)              (None, 148, 148, 32)      896       \n",
            "_________________________________________________________________\n",
            "max_pooling2d (MaxPooling2D) (None, 74, 74, 32)        0         \n",
            "_________________________________________________________________\n",
            "conv2d_1 (Conv2D)            (None, 72, 72, 64)        18496     \n",
            "_________________________________________________________________\n",
            "max_pooling2d_1 (MaxPooling2 (None, 36, 36, 64)        0         \n",
            "_________________________________________________________________\n",
            "conv2d_2 (Conv2D)            (None, 34, 34, 128)       73856     \n",
            "_________________________________________________________________\n",
            "max_pooling2d_2 (MaxPooling2 (None, 17, 17, 128)       0         \n",
            "_________________________________________________________________\n",
            "conv2d_3 (Conv2D)            (None, 15, 15, 128)       147584    \n",
            "_________________________________________________________________\n",
            "max_pooling2d_3 (MaxPooling2 (None, 7, 7, 128)         0         \n",
            "_________________________________________________________________\n",
            "flatten (Flatten)            (None, 6272)              0         \n",
            "_________________________________________________________________\n",
            "dense (Dense)                (None, 512)               3211776   \n",
            "_________________________________________________________________\n",
            "dense_1 (Dense)              (None, 1)                 513       \n",
            "=================================================================\n",
            "Total params: 3,453,121\n",
            "Trainable params: 3,453,121\n",
            "Non-trainable params: 0\n",
            "_________________________________________________________________\n"
          ],
          "name": "stdout"
        }
      ]
    },
    {
      "cell_type": "code",
      "metadata": {
        "colab": {
          "base_uri": "https://localhost:8080/"
        },
        "id": "93Rw0F9CM12T",
        "outputId": "1a145a8c-f767-4a2e-ea49-8aeb7e0c1b39"
      },
      "source": [
        "# Fit our data\n",
        "\n",
        "model_history= model.fit(train_flow,\n",
        "                         epochs = 50,\n",
        "                         steps_per_epoch= 40 , # steps = Total data/ batch size\n",
        "                         validation_data = validation_flow,\n",
        "                         validation_steps = 20)"
      ],
      "execution_count": 11,
      "outputs": [
        {
          "output_type": "stream",
          "text": [
            "Epoch 1/50\n",
            "40/40 [==============================] - 16s 395ms/step - loss: 0.6978 - accuracy: 0.5250 - val_loss: 0.6872 - val_accuracy: 0.5090\n",
            "Epoch 2/50\n",
            "40/40 [==============================] - 16s 397ms/step - loss: 0.6932 - accuracy: 0.5030 - val_loss: 0.6932 - val_accuracy: 0.5000\n",
            "Epoch 3/50\n",
            "40/40 [==============================] - 16s 399ms/step - loss: 0.6936 - accuracy: 0.4890 - val_loss: 0.6924 - val_accuracy: 0.5340\n",
            "Epoch 4/50\n",
            "40/40 [==============================] - 16s 399ms/step - loss: 0.6918 - accuracy: 0.5160 - val_loss: 0.6795 - val_accuracy: 0.5940\n",
            "Epoch 5/50\n",
            "40/40 [==============================] - 16s 395ms/step - loss: 0.6845 - accuracy: 0.5400 - val_loss: 0.6915 - val_accuracy: 0.5110\n",
            "Epoch 6/50\n",
            "40/40 [==============================] - 16s 398ms/step - loss: 0.6836 - accuracy: 0.5360 - val_loss: 0.6580 - val_accuracy: 0.5940\n",
            "Epoch 7/50\n",
            "40/40 [==============================] - 16s 395ms/step - loss: 0.6801 - accuracy: 0.5500 - val_loss: 0.6880 - val_accuracy: 0.5400\n",
            "Epoch 8/50\n",
            "40/40 [==============================] - 16s 391ms/step - loss: 0.6940 - accuracy: 0.5080 - val_loss: 0.6929 - val_accuracy: 0.4950\n",
            "Epoch 9/50\n",
            "40/40 [==============================] - 16s 398ms/step - loss: 0.6908 - accuracy: 0.5490 - val_loss: 0.6882 - val_accuracy: 0.5490\n",
            "Epoch 10/50\n",
            "40/40 [==============================] - 16s 396ms/step - loss: 0.6909 - accuracy: 0.5475 - val_loss: 0.6882 - val_accuracy: 0.5680\n",
            "Epoch 11/50\n",
            "40/40 [==============================] - 16s 399ms/step - loss: 0.6911 - accuracy: 0.5380 - val_loss: 0.6936 - val_accuracy: 0.5100\n",
            "Epoch 12/50\n",
            "40/40 [==============================] - 16s 394ms/step - loss: 0.6883 - accuracy: 0.5420 - val_loss: 0.6845 - val_accuracy: 0.5530\n",
            "Epoch 13/50\n",
            "40/40 [==============================] - 16s 392ms/step - loss: 0.6882 - accuracy: 0.5600 - val_loss: 0.6862 - val_accuracy: 0.5680\n",
            "Epoch 14/50\n",
            "40/40 [==============================] - 16s 396ms/step - loss: 0.6913 - accuracy: 0.5250 - val_loss: 0.6945 - val_accuracy: 0.5130\n",
            "Epoch 15/50\n",
            "40/40 [==============================] - 16s 393ms/step - loss: 0.6895 - accuracy: 0.5485 - val_loss: 0.6861 - val_accuracy: 0.5650\n",
            "Epoch 16/50\n",
            "40/40 [==============================] - 16s 392ms/step - loss: 0.6863 - accuracy: 0.5435 - val_loss: 0.6679 - val_accuracy: 0.5790\n",
            "Epoch 17/50\n",
            "40/40 [==============================] - 16s 392ms/step - loss: 0.6834 - accuracy: 0.5700 - val_loss: 0.6833 - val_accuracy: 0.5640\n",
            "Epoch 18/50\n",
            "40/40 [==============================] - 16s 391ms/step - loss: 0.6894 - accuracy: 0.5465 - val_loss: 0.6845 - val_accuracy: 0.5540\n",
            "Epoch 19/50\n",
            "40/40 [==============================] - 16s 400ms/step - loss: 0.6886 - accuracy: 0.5430 - val_loss: 0.6806 - val_accuracy: 0.5810\n",
            "Epoch 20/50\n",
            "40/40 [==============================] - 16s 394ms/step - loss: 0.6838 - accuracy: 0.5605 - val_loss: 0.6666 - val_accuracy: 0.5890\n",
            "Epoch 21/50\n",
            "40/40 [==============================] - 16s 393ms/step - loss: 0.6759 - accuracy: 0.5650 - val_loss: 0.6770 - val_accuracy: 0.5620\n",
            "Epoch 22/50\n",
            "40/40 [==============================] - 16s 393ms/step - loss: 0.6842 - accuracy: 0.5760 - val_loss: 0.6693 - val_accuracy: 0.5850\n",
            "Epoch 23/50\n",
            "40/40 [==============================] - 16s 393ms/step - loss: 0.6776 - accuracy: 0.5460 - val_loss: 0.6899 - val_accuracy: 0.5220\n",
            "Epoch 24/50\n",
            "40/40 [==============================] - 16s 397ms/step - loss: 0.6779 - accuracy: 0.5590 - val_loss: 0.6556 - val_accuracy: 0.5980\n",
            "Epoch 25/50\n",
            "40/40 [==============================] - 16s 393ms/step - loss: 0.6618 - accuracy: 0.5775 - val_loss: 0.6502 - val_accuracy: 0.5970\n",
            "Epoch 26/50\n",
            "40/40 [==============================] - 16s 395ms/step - loss: 0.6674 - accuracy: 0.5750 - val_loss: 0.6517 - val_accuracy: 0.5940\n",
            "Epoch 27/50\n",
            "40/40 [==============================] - 16s 393ms/step - loss: 0.6558 - accuracy: 0.5865 - val_loss: 0.6477 - val_accuracy: 0.6000\n",
            "Epoch 28/50\n",
            "40/40 [==============================] - 16s 392ms/step - loss: 0.6596 - accuracy: 0.5880 - val_loss: 0.6365 - val_accuracy: 0.6220\n",
            "Epoch 29/50\n",
            "40/40 [==============================] - 16s 395ms/step - loss: 0.6484 - accuracy: 0.6065 - val_loss: 0.6437 - val_accuracy: 0.6370\n",
            "Epoch 30/50\n",
            "40/40 [==============================] - 16s 400ms/step - loss: 0.6552 - accuracy: 0.5910 - val_loss: 0.6419 - val_accuracy: 0.6070\n",
            "Epoch 31/50\n",
            "40/40 [==============================] - 16s 392ms/step - loss: 0.6642 - accuracy: 0.5820 - val_loss: 0.6784 - val_accuracy: 0.5700\n",
            "Epoch 32/50\n",
            "40/40 [==============================] - 16s 395ms/step - loss: 0.6628 - accuracy: 0.5915 - val_loss: 0.6543 - val_accuracy: 0.5770\n",
            "Epoch 33/50\n",
            "40/40 [==============================] - 16s 394ms/step - loss: 0.6539 - accuracy: 0.5905 - val_loss: 0.6516 - val_accuracy: 0.5770\n",
            "Epoch 34/50\n",
            "40/40 [==============================] - 16s 396ms/step - loss: 0.6546 - accuracy: 0.6025 - val_loss: 0.6414 - val_accuracy: 0.6180\n",
            "Epoch 35/50\n",
            "40/40 [==============================] - 16s 395ms/step - loss: 0.6456 - accuracy: 0.6170 - val_loss: 0.6339 - val_accuracy: 0.6340\n",
            "Epoch 36/50\n",
            "40/40 [==============================] - 16s 392ms/step - loss: 0.6508 - accuracy: 0.5950 - val_loss: 0.6159 - val_accuracy: 0.6600\n",
            "Epoch 37/50\n",
            "40/40 [==============================] - 16s 392ms/step - loss: 0.6548 - accuracy: 0.5845 - val_loss: 0.6261 - val_accuracy: 0.6260\n",
            "Epoch 38/50\n",
            "40/40 [==============================] - 16s 396ms/step - loss: 0.6436 - accuracy: 0.6025 - val_loss: 0.6432 - val_accuracy: 0.6230\n",
            "Epoch 39/50\n",
            "40/40 [==============================] - 16s 395ms/step - loss: 0.6504 - accuracy: 0.5950 - val_loss: 0.6435 - val_accuracy: 0.6250\n",
            "Epoch 40/50\n",
            "40/40 [==============================] - 16s 392ms/step - loss: 0.6443 - accuracy: 0.6150 - val_loss: 0.6238 - val_accuracy: 0.6460\n",
            "Epoch 41/50\n",
            "40/40 [==============================] - 16s 391ms/step - loss: 0.6382 - accuracy: 0.6175 - val_loss: 0.6426 - val_accuracy: 0.6110\n",
            "Epoch 42/50\n",
            "40/40 [==============================] - 16s 391ms/step - loss: 0.6437 - accuracy: 0.6190 - val_loss: 0.6160 - val_accuracy: 0.6650\n",
            "Epoch 43/50\n",
            "40/40 [==============================] - 16s 392ms/step - loss: 0.6356 - accuracy: 0.6225 - val_loss: 0.6173 - val_accuracy: 0.6480\n",
            "Epoch 44/50\n",
            "40/40 [==============================] - 16s 395ms/step - loss: 0.6512 - accuracy: 0.5905 - val_loss: 0.6520 - val_accuracy: 0.5840\n",
            "Epoch 45/50\n",
            "40/40 [==============================] - 16s 392ms/step - loss: 0.6372 - accuracy: 0.5995 - val_loss: 0.6899 - val_accuracy: 0.6090\n",
            "Epoch 46/50\n",
            "40/40 [==============================] - 16s 391ms/step - loss: 0.6578 - accuracy: 0.5915 - val_loss: 0.6517 - val_accuracy: 0.5940\n",
            "Epoch 47/50\n",
            "40/40 [==============================] - 16s 391ms/step - loss: 0.6479 - accuracy: 0.6040 - val_loss: 0.6330 - val_accuracy: 0.6300\n",
            "Epoch 48/50\n",
            "40/40 [==============================] - 16s 391ms/step - loss: 0.6341 - accuracy: 0.6055 - val_loss: 0.6726 - val_accuracy: 0.6010\n",
            "Epoch 49/50\n",
            "40/40 [==============================] - 16s 398ms/step - loss: 0.6396 - accuracy: 0.6060 - val_loss: 0.6342 - val_accuracy: 0.6280\n",
            "Epoch 50/50\n",
            "40/40 [==============================] - 16s 392ms/step - loss: 0.6434 - accuracy: 0.6055 - val_loss: 0.6346 - val_accuracy: 0.6250\n"
          ],
          "name": "stdout"
        }
      ]
    },
    {
      "cell_type": "code",
      "metadata": {
        "id": "9P0gIHInOrIJ"
      },
      "source": [
        ""
      ],
      "execution_count": 11,
      "outputs": []
    },
    {
      "cell_type": "code",
      "metadata": {
        "colab": {
          "base_uri": "https://localhost:8080/",
          "height": 573
        },
        "id": "jbf_jGskj5cN",
        "outputId": "a8403752-bc7c-48d1-a0e1-21c8c8b1b5ba"
      },
      "source": [
        "def plot_figure(model_history):\n",
        "  acc = model_history.history['accuracy']\n",
        "  loss = model_history.history['loss']\n",
        "  val_loss = model_history.history['val_loss']\n",
        "  val_accuracy = model_history.history['val_accuracy']\n",
        "  \n",
        "  epochs = range(len(acc))\n",
        "\n",
        "  plt.plot(epochs, acc, label='train accuracy')\n",
        "  plt.plot(epochs, val_accuracy, label='validation accuracy')\n",
        "  plt.title('accuracy vs epochs')\n",
        "  plt.xlabel('epochs')\n",
        "  plt.ylabel('accuracy')\n",
        "  plt.legend()\n",
        "  plt.show()\n",
        "\n",
        "  plt.plot(epochs, loss, label='loss')\n",
        "  plt.plot(epochs, val_loss, label='validation_loss')\n",
        "  plt.title('loss vs epochs')\n",
        "  plt.xlabel('epochs')\n",
        "  plt.ylabel('loss')\n",
        "  plt.legend()\n",
        "  plt.show()\n",
        "\n",
        "  # plot figures\n",
        "plot_figure(model_history)\n",
        "\n",
        "  \n",
        "\n"
      ],
      "execution_count": 15,
      "outputs": [
        {
          "output_type": "display_data",
          "data": {
            "image/png": "[encoded data removed]",
            "text/plain": [
              "<Figure size 432x288 with 1 Axes>"
            ]
          },
          "metadata": {
            "tags": [],
            "needs_background": "light"
          }
        },
        {
          "output_type": "display_data",
          "data": {
            "image/png": "[encoded data removed]",
            "text/plain": [
              "<Figure size 432x288 with 1 Axes>"
            ]
          },
          "metadata": {
            "tags": [],
            "needs_background": "light"
          }
        }
      ]
    }
  ]
}